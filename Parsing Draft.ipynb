{
 "cells": [
  {
   "cell_type": "code",
   "execution_count": 87,
   "metadata": {},
   "outputs": [],
   "source": [
    "import time\n",
    "from urllib.parse import urlencode\n",
    "from bs4 import BeautifulSoup\n",
    "import requests"
   ]
  },
  {
   "cell_type": "code",
   "execution_count": 88,
   "metadata": {},
   "outputs": [],
   "source": [
    "headers = {'User-Agent':'Mozilla/5.0 (Macintosh; Intel Mac OS X 10_11_2) AppleWebKit/601.3.9 (KHTML, like Gecko) Version/9.0.2 Safari/601.3.9'}\n",
    "url = \"https://www.booking.com/searchresults.ru.html\"\n",
    "url += \"?\" + urlencode(\n",
    "        {\n",
    "            \"ss\": \"Paris\",\n",
    "            \"checkin_year\": 2022,\n",
    "            \"checkin_month\": 8,\n",
    "            \"checkin_monthday\": 10,\n",
    "            \"checkout_year\": 2022,\n",
    "            \"checkout_month\": 8,\n",
    "            \"checkout_monthday\": 17,\n",
    "            \"no_rooms\": 1,\n",
    "            \"offset\": 0\n",
    "        }\n",
    "    )"
   ]
  },
  {
   "cell_type": "code",
   "execution_count": 89,
   "metadata": {},
   "outputs": [
    {
     "name": "stdout",
     "output_type": "stream",
     "text": [
      "https://www.booking.com/searchresults.ru.html?ss=Paris&checkin_year=2022&checkin_month=8&checkin_monthday=10&checkout_year=2022&checkout_month=8&checkout_monthday=17&no_rooms=1&offset=0\n"
     ]
    }
   ],
   "source": [
    "print(url)"
   ]
  },
  {
   "cell_type": "code",
   "execution_count": 90,
   "metadata": {},
   "outputs": [],
   "source": [
    "soup = BeautifulSoup(requests.get(url,headers=headers).content, 'html.parser')"
   ]
  },
  {
   "cell_type": "code",
   "execution_count": 92,
   "metadata": {},
   "outputs": [
    {
     "name": "stdout",
     "output_type": "stream",
     "text": [
      "1\n",
      "Kube Hotel Paris - Ice Bar\n",
      "68 920 руб.\n",
      "https://www.booking.com/hotel/fr/kube.ru.html?aid=304142&ucfs=1&arphpl=1&checkin=2022-08-10&checkout=2022-08-17&group_adults=2&req_adults=2&no_rooms=1&group_children=0&req_children=0&hpos=1&hapos=1&sr_order=popularity&srpvid=cb80a78106be00f5&srepoch=1656546563&all_sr_blocks=4470102_93697882_0_34_0&highlighted_blocks=4470102_93697882_0_34_0&matching_block_id=4470102_93697882_0_34_0&sr_pri_blocks=4470102_93697882_0_34_0__122634&tpi_r=2&from=searchresults#hotelTmpl\n",
      "-----------------------------------------------------\n",
      "2\n",
      "Large studio - Paris 20\n",
      "34 261 руб.\n",
      "https://www.booking.com/hotel/fr/large-studio-paris-20.ru.html?aid=304142&ucfs=1&arphpl=1&checkin=2022-08-10&checkout=2022-08-17&group_adults=2&req_adults=2&no_rooms=1&group_children=0&req_children=0&hpos=2&hapos=2&sr_order=popularity&srpvid=cb80a78106be00f5&srepoch=1656546563&all_sr_blocks=867950902_355406523_2_0_0&highlighted_blocks=867950902_355406523_2_0_0&matching_block_id=867950902_355406523_2_0_0&sr_pri_blocks=867950902_355406523_2_0_0__60963&tpi_r=2&from=searchresults#hotelTmpl\n",
      "-----------------------------------------------------\n",
      "3\n",
      "Pullman Paris Tour Eiffel\n",
      "140 388 руб.\n",
      "https://www.booking.com/hotel/fr/tour-eiffel.ru.html?aid=304142&ucfs=1&arphpl=1&checkin=2022-08-10&checkout=2022-08-17&group_adults=2&req_adults=2&no_rooms=1&group_children=0&req_children=0&hpos=3&hapos=3&sr_order=popularity&srpvid=cb80a78106be00f5&srepoch=1656546563&all_sr_blocks=2673025_246083636_2_10_0&highlighted_blocks=2673025_246083636_2_10_0&matching_block_id=2673025_246083636_2_10_0&sr_pri_blocks=2673025_246083636_2_10_0__249800&tpi_r=2&from_sustainable_property_sr=1&from=searchresults#hotelTmpl\n",
      "-----------------------------------------------------\n",
      "4\n",
      "EIFFEL TOWER PENTHOUSE\n",
      "206 904 руб.\n",
      "https://www.booking.com/hotel/fr/eiffel-tower-penthouse.ru.html?aid=304142&ucfs=1&arphpl=1&checkin=2022-08-10&checkout=2022-08-17&group_adults=2&req_adults=2&no_rooms=1&group_children=0&req_children=0&hpos=4&hapos=4&sr_order=popularity&srpvid=cb80a78106be00f5&srepoch=1656546563&all_sr_blocks=856356701_353189192_6_0_0&highlighted_blocks=856356701_353189192_6_0_0&matching_block_id=856356701_353189192_6_0_0&sr_pri_blocks=856356701_353189192_6_0_0__368156&tpi_r=2&from=searchresults#hotelTmpl\n",
      "-----------------------------------------------------\n",
      "5\n",
      "Aparthotel Adagio Porte de Versailles\n",
      "44 454 руб.\n",
      "https://www.booking.com/hotel/fr/portedeversaille.ru.html?aid=304142&ucfs=1&arphpl=1&checkin=2022-08-10&checkout=2022-08-17&group_adults=2&req_adults=2&no_rooms=1&group_children=0&req_children=0&hpos=5&hapos=5&sr_order=popularity&srpvid=cb80a78106be00f5&srepoch=1656546563&all_sr_blocks=5178001_266278186_2_2_0&highlighted_blocks=5178001_266278186_2_2_0&matching_block_id=5178001_266278186_2_2_0&sr_pri_blocks=5178001_266278186_2_2_0__79100&tpi_r=2&from=searchresults#hotelTmpl\n",
      "-----------------------------------------------------\n",
      "6\n",
      "Prince Albert Lyon Bercy\n",
      "45 557 руб.\n",
      "https://www.booking.com/hotel/fr/prince-albert-lyon-bercy.ru.html?aid=304142&ucfs=1&arphpl=1&checkin=2022-08-10&checkout=2022-08-17&group_adults=2&req_adults=2&no_rooms=1&group_children=0&req_children=0&hpos=6&hapos=6&sr_order=popularity&srpvid=cb80a78106be00f5&srepoch=1656546563&all_sr_blocks=5405001_88918882_0_2_0&highlighted_blocks=5405001_88918882_0_2_0&matching_block_id=5405001_88918882_0_2_0&sr_pri_blocks=5405001_88918882_0_2_0__81062&tpi_r=2&from_sustainable_property_sr=1&from=searchresults#hotelTmpl\n",
      "-----------------------------------------------------\n",
      "7\n",
      "Le Patio Bastille\n",
      "45 241 руб.\n",
      "https://www.booking.com/hotel/fr/le-patio-st-antoine.ru.html?aid=304142&ucfs=1&arphpl=1&checkin=2022-08-10&checkout=2022-08-17&group_adults=2&req_adults=2&no_rooms=1&group_children=0&req_children=0&hpos=7&hapos=7&sr_order=popularity&srpvid=cb80a78106be00f5&srepoch=1656546563&all_sr_blocks=5408101_94105845_0_2_0&highlighted_blocks=5408101_94105845_0_2_0&matching_block_id=5408101_94105845_0_2_0&sr_pri_blocks=5408101_94105845_0_2_0__80500&tpi_r=2&from=searchresults#hotelTmpl\n",
      "-----------------------------------------------------\n",
      "8\n",
      "Splendid Etoile\n",
      "73 217 руб.\n",
      "https://www.booking.com/hotel/fr/splendid-etoile.ru.html?aid=304142&ucfs=1&arphpl=1&checkin=2022-08-10&checkout=2022-08-17&group_adults=2&req_adults=2&no_rooms=1&group_children=0&req_children=0&hpos=8&hapos=8&sr_order=popularity&srpvid=cb80a78106be00f5&srepoch=1656546563&all_sr_blocks=0_0_2_0_0&highlighted_blocks=0_0_2_0_0&matching_block_id=0_0_2_0_0&sr_pri_blocks=0_0_2_0_0__130280&tpi_r=1&from=searchresults#hotelTmpl\n",
      "-----------------------------------------------------\n",
      "9\n",
      "Hotel de Paris Montmartre\n",
      "42 406 руб.\n",
      "https://www.booking.com/hotel/fr/de-paris-montmartre.ru.html?aid=304142&ucfs=1&arphpl=1&checkin=2022-08-10&checkout=2022-08-17&group_adults=2&req_adults=2&no_rooms=1&group_children=0&req_children=0&hpos=9&hapos=9&sr_order=popularity&srpvid=cb80a78106be00f5&srepoch=1656546563&all_sr_blocks=37903101_340777525_0_2_0&highlighted_blocks=37903101_340777525_0_2_0&matching_block_id=37903101_340777525_0_2_0&sr_pri_blocks=37903101_340777525_0_2_0__75455&tpi_r=2&from_sustainable_property_sr=1&from=searchresults#hotelTmpl\n",
      "-----------------------------------------------------\n",
      "10\n",
      "Austin's Saint Lazare Hotel\n",
      "75 633 руб.\n",
      "https://www.booking.com/hotel/fr/austin-s-saint-lazare.ru.html?aid=304142&ucfs=1&arphpl=1&checkin=2022-08-10&checkout=2022-08-17&group_adults=2&req_adults=2&no_rooms=1&group_children=0&req_children=0&hpos=10&hapos=10&sr_order=popularity&srpvid=cb80a78106be00f5&srepoch=1656546563&all_sr_blocks=24389902_348404470_2_2_0&highlighted_blocks=24389902_348404470_2_2_0&matching_block_id=24389902_348404470_2_2_0&sr_pri_blocks=24389902_348404470_2_2_0__134578&tpi_r=2&from_sustainable_property_sr=1&from=searchresults#hotelTmpl\n",
      "-----------------------------------------------------\n",
      "11\n",
      "Aparthotel Adagio Paris Montmartre\n",
      "61 370 руб.\n",
      "https://www.booking.com/hotel/fr/pvmontmartre.ru.html?aid=304142&ucfs=1&arphpl=1&checkin=2022-08-10&checkout=2022-08-17&group_adults=2&req_adults=2&no_rooms=1&group_children=0&req_children=0&hpos=11&hapos=11&sr_order=popularity&srpvid=cb80a78106be00f5&srepoch=1656546563&all_sr_blocks=5178102_309327490_2_2_0&highlighted_blocks=5178102_309327490_2_2_0&matching_block_id=5178102_309327490_2_2_0&sr_pri_blocks=5178102_309327490_2_2_0__109200&tpi_r=2&from_sustainable_property_sr=1&from=searchresults#hotelTmpl\n",
      "-----------------------------------------------------\n",
      "12\n",
      "Odalys City Paris XVII\n",
      "35 524 руб.\n",
      "https://www.booking.com/hotel/fr/appart-39-odalys-paris-xvii.ru.html?aid=304142&ucfs=1&arphpl=1&checkin=2022-08-10&checkout=2022-08-17&group_adults=2&req_adults=2&no_rooms=1&group_children=0&req_children=0&hpos=12&hapos=12&sr_order=popularity&srpvid=cb80a78106be00f5&srepoch=1656546563&all_sr_blocks=259252501_104615254_2_2_0&highlighted_blocks=259252501_104615254_2_2_0&matching_block_id=259252501_104615254_2_2_0&sr_pri_blocks=259252501_104615254_2_2_0__63210&tpi_r=2&from_sustainable_property_sr=1&from=searchresults#hotelTmpl\n",
      "-----------------------------------------------------\n",
      "13\n",
      "Hotel Inn Design Paris Place d’Italie (ex Timhotel)\n",
      "37 676 руб.\n",
      "https://www.booking.com/hotel/fr/hotel-inn-design-paris-place-ditalie.ru.html?aid=304142&ucfs=1&arphpl=1&checkin=2022-08-10&checkout=2022-08-17&group_adults=2&req_adults=2&no_rooms=1&group_children=0&req_children=0&hpos=13&hapos=13&sr_order=popularity&srpvid=cb80a78106be00f5&srepoch=1656546563&all_sr_blocks=5515717_91822452_2_2_0&highlighted_blocks=5515717_91822452_2_2_0&matching_block_id=5515717_91822452_2_2_0&sr_pri_blocks=5515717_91822452_2_2_0__67040&tpi_r=2&from_sustainable_property_sr=1&from=searchresults#hotelTmpl\n",
      "-----------------------------------------------------\n",
      "14\n",
      "Sofitel Le Scribe Paris Opera\n",
      "152 246 руб.\n",
      "https://www.booking.com/hotel/fr/scribe-paris.ru.html?aid=304142&ucfs=1&arphpl=1&checkin=2022-08-10&checkout=2022-08-17&group_adults=2&req_adults=2&no_rooms=1&group_children=0&req_children=0&hpos=14&hapos=14&sr_order=popularity&srpvid=cb80a78106be00f5&srepoch=1656546563&all_sr_blocks=5411053_94273274_2_34_0&highlighted_blocks=5411053_94273274_2_34_0&matching_block_id=5411053_94273274_2_34_0&sr_pri_blocks=5411053_94273274_2_34_0__270900&tpi_r=2&from_sustainable_property_sr=1&from=searchresults#hotelTmpl\n",
      "-----------------------------------------------------\n",
      "15\n",
      "Palym\n",
      "53 125 руб.\n",
      "https://www.booking.com/hotel/fr/palym.ru.html?aid=304142&ucfs=1&arphpl=1&checkin=2022-08-10&checkout=2022-08-17&group_adults=2&req_adults=2&no_rooms=1&group_children=0&req_children=0&hpos=15&hapos=15&sr_order=popularity&srpvid=cb80a78106be00f5&srepoch=1656546563&all_sr_blocks=5517002_91903036_2_2_0&highlighted_blocks=5517002_91903036_2_2_0&matching_block_id=5517002_91903036_2_2_0&sr_pri_blocks=5517002_91903036_2_2_0__94529&tpi_r=2&from=searchresults#hotelTmpl\n",
      "-----------------------------------------------------\n",
      "16\n",
      "ibis Paris Gare du Nord Château Landon 10ème\n",
      "43 431 руб.\n",
      "https://www.booking.com/hotel/fr/ibis-gare-du-nord-chateau-landon.ru.html?aid=304142&ucfs=1&arphpl=1&checkin=2022-08-10&checkout=2022-08-17&group_adults=2&req_adults=2&no_rooms=1&group_children=0&req_children=0&hpos=16&hapos=16&sr_order=popularity&srpvid=cb80a78106be00f5&srepoch=1656546563&all_sr_blocks=54797402_333880104_2_2_0&highlighted_blocks=54797402_333880104_2_2_0&matching_block_id=54797402_333880104_2_2_0&sr_pri_blocks=54797402_333880104_2_2_0__77280&tpi_r=2&from=searchresults#hotelTmpl\n",
      "-----------------------------------------------------\n",
      "17\n",
      "Hotel Lorette - Astotel\n",
      "54 626 руб.\n",
      "https://www.booking.com/hotel/fr/loretteopera.ru.html?aid=304142&ucfs=1&arphpl=1&checkin=2022-08-10&checkout=2022-08-17&group_adults=2&req_adults=2&no_rooms=1&group_children=0&req_children=0&hpos=17&hapos=17&sr_order=popularity&srpvid=cb80a78106be00f5&srepoch=1656546563&all_sr_blocks=5091402_115314580_0_2_0&highlighted_blocks=5091402_115314580_0_2_0&matching_block_id=5091402_115314580_0_2_0&sr_pri_blocks=5091402_115314580_0_2_0__97200&tpi_r=2&from=searchresults#hotelTmpl\n",
      "-----------------------------------------------------\n",
      "18\n",
      "Beautiful apartment - Paris Saint Lazare\n",
      "72 373 руб.\n",
      "https://www.booking.com/hotel/fr/beautiful-apartment-paris-saint-lazare.ru.html?aid=304142&ucfs=1&arphpl=1&checkin=2022-08-10&checkout=2022-08-17&group_adults=2&req_adults=2&no_rooms=1&group_children=0&req_children=0&hpos=18&hapos=18&sr_order=popularity&srpvid=cb80a78106be00f5&srepoch=1656546563&all_sr_blocks=872356102_356169431_2_0_0&highlighted_blocks=872356102_356169431_2_0_0&matching_block_id=872356102_356169431_2_0_0&sr_pri_blocks=872356102_356169431_2_0_0__128777&tpi_r=2&from=searchresults#hotelTmpl\n",
      "-----------------------------------------------------\n",
      "19\n",
      "Le Robinet d'Or\n",
      "66 878 руб.\n",
      "https://www.booking.com/hotel/fr/le-robinet-d-or.ru.html?aid=304142&ucfs=1&arphpl=1&checkin=2022-08-10&checkout=2022-08-17&group_adults=2&req_adults=2&no_rooms=1&group_children=0&req_children=0&hpos=19&hapos=19&sr_order=popularity&srpvid=cb80a78106be00f5&srepoch=1656546563&all_sr_blocks=38731902_278565510_0_2_0&highlighted_blocks=38731902_278565510_0_2_0&matching_block_id=38731902_278565510_0_2_0&sr_pri_blocks=38731902_278565510_0_2_0__119000&tpi_r=2&from=searchresults#hotelTmpl\n",
      "-----------------------------------------------------\n",
      "20\n",
      "Elysées Ceramic\n",
      "62 951 руб.\n",
      "https://www.booking.com/hotel/fr/hotelelyseesceramic.ru.html?aid=304142&ucfs=1&arphpl=1&checkin=2022-08-10&checkout=2022-08-17&group_adults=2&req_adults=2&no_rooms=1&group_children=0&req_children=0&hpos=20&hapos=20&sr_order=popularity&srpvid=cb80a78106be00f5&srepoch=1656546563&all_sr_blocks=5099702_103730655_0_2_0&highlighted_blocks=5099702_103730655_0_2_0&matching_block_id=5099702_103730655_0_2_0&sr_pri_blocks=5099702_103730655_0_2_0__112013&tpi_r=2&from=searchresults#hotelTmpl\n",
      "-----------------------------------------------------\n",
      "21\n",
      "Résidence du Pré\n",
      "50 580 руб.\n",
      "https://www.booking.com/hotel/fr/residence-du-pre.ru.html?aid=304142&ucfs=1&arphpl=1&checkin=2022-08-10&checkout=2022-08-17&group_adults=2&req_adults=2&no_rooms=1&group_children=0&req_children=0&hpos=21&hapos=21&sr_order=popularity&srpvid=cb80a78106be00f5&srepoch=1656546563&all_sr_blocks=320780303_131664195_0_2_0&highlighted_blocks=320780303_131664195_0_2_0&matching_block_id=320780303_131664195_0_2_0&sr_pri_blocks=320780303_131664195_0_2_0__90000&tpi_r=2&from=searchresults#hotelTmpl\n",
      "-----------------------------------------------------\n",
      "22\n",
      "B&B Hôtel Paris 17 Batignolles\n",
      "42 319 руб.\n",
      "https://www.booking.com/hotel/fr/parisboulevardberthier.ru.html?aid=304142&ucfs=1&arphpl=1&checkin=2022-08-10&checkout=2022-08-17&group_adults=2&req_adults=2&no_rooms=1&group_children=0&req_children=0&hpos=22&hapos=22&sr_order=popularity&srpvid=cb80a78106be00f5&srepoch=1656546563&all_sr_blocks=5120702_350828256_0_2_0&highlighted_blocks=5120702_350828256_0_2_0&matching_block_id=5120702_350828256_0_2_0&sr_pri_blocks=5120702_350828256_0_2_0__75300&tpi_r=2&from=searchresults#hotelTmpl\n",
      "-----------------------------------------------------\n",
      "23\n",
      "Aparthotel Adagio Paris Centre Tour Eiffel\n",
      "56 144 руб.\n",
      "https://www.booking.com/hotel/fr/pierre-vacacnces-city-paris-tour-eiffel.ru.html?aid=304142&ucfs=1&arphpl=1&checkin=2022-08-10&checkout=2022-08-17&group_adults=2&req_adults=2&no_rooms=1&group_children=0&req_children=0&hpos=23&hapos=23&sr_order=popularity&srpvid=cb80a78106be00f5&srepoch=1656546563&all_sr_blocks=5399501_94273053_2_2_0&highlighted_blocks=5399501_94273053_2_2_0&matching_block_id=5399501_94273053_2_2_0&sr_pri_blocks=5399501_94273053_2_2_0__99900&tpi_r=2&from=searchresults#hotelTmpl\n",
      "-----------------------------------------------------\n",
      "24\n",
      "Studio Passy - Tour Eiffel\n",
      "38 691 руб.\n",
      "https://www.booking.com/hotel/fr/studio-passy-tour-eiffel.ru.html?aid=304142&ucfs=1&arphpl=1&checkin=2022-08-10&checkout=2022-08-17&group_adults=2&req_adults=2&no_rooms=1&group_children=0&req_children=0&hpos=24&hapos=24&sr_order=popularity&srpvid=cb80a78106be00f5&srepoch=1656546563&all_sr_blocks=849823801_352190013_2_0_0&highlighted_blocks=849823801_352190013_2_0_0&matching_block_id=849823801_352190013_2_0_0&sr_pri_blocks=849823801_352190013_2_0_0__68845&tpi_r=2&from=searchresults#hotelTmpl\n",
      "-----------------------------------------------------\n",
      "25\n",
      "Hôtel Des Arts-Bastille\n",
      "50 490 руб.\n",
      "https://www.booking.com/hotel/fr/hotel-des-arts-bastille.ru.html?aid=304142&ucfs=1&arphpl=1&checkin=2022-08-10&checkout=2022-08-17&group_adults=2&req_adults=2&no_rooms=1&group_children=0&req_children=0&hpos=25&hapos=25&sr_order=popularity&srpvid=cb80a78106be00f5&srepoch=1656546563&all_sr_blocks=22963708_275420467_2_2_0&highlighted_blocks=22963708_275420467_2_2_0&matching_block_id=22963708_275420467_2_2_0&sr_pri_blocks=22963708_275420467_2_2_0__89840&tpi_r=2&from_sustainable_property_sr=1&from=searchresults#hotelTmpl\n",
      "-----------------------------------------------------\n"
     ]
    }
   ],
   "source": [
    "i = 1\n",
    "for item in soup.find_all('div', 'd20f4628d0'):\n",
    "    print(i)\n",
    "    i = i + 1\n",
    "    print(item.find('div', 'fcab3ed991 a23c043802').get_text()) #hotel name\n",
    "    print(item.find('span', 'fcab3ed991 bd73d13072').get_text()) #price with discount\n",
    "    print(item.find('a', 'e13098a59f').get('href')) #hotel url\n",
    "    print('-----------------------------------------------------')\n",
    "    \n",
    "    "
   ]
  }
 ],
 "metadata": {
  "kernelspec": {
   "display_name": "Python 3.9.13 64-bit (windows store)",
   "language": "python",
   "name": "python3"
  },
  "language_info": {
   "codemirror_mode": {
    "name": "ipython",
    "version": 3
   },
   "file_extension": ".py",
   "mimetype": "text/x-python",
   "name": "python",
   "nbconvert_exporter": "python",
   "pygments_lexer": "ipython3",
   "version": "3.9.13"
  },
  "orig_nbformat": 4,
  "vscode": {
   "interpreter": {
    "hash": "eda38a440eef69aced3c690a6b59de604c1727688e90ce811b8ec2d88cbb167e"
   }
  }
 },
 "nbformat": 4,
 "nbformat_minor": 2
}
